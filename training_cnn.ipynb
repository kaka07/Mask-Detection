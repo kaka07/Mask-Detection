{
 "cells": [
  {
   "cell_type": "code",
   "execution_count": 1,
   "metadata": {},
   "outputs": [],
   "source": [
    "import numpy as np\n",
    "\n",
    "data=np.load('data.npy')\n",
    "target=np.load('target.npy')"
   ]
  },
  {
   "cell_type": "code",
   "execution_count": 3,
   "metadata": {},
   "outputs": [],
   "source": [
    "from keras.models import Sequential\n",
    "from keras.layers import *\n",
    "from keras.callbacks import ModelCheckpoint"
   ]
  },
  {
   "cell_type": "code",
   "execution_count": 13,
   "metadata": {},
   "outputs": [
    {
     "name": "stderr",
     "output_type": "stream",
     "text": [
      "W0714 13:00:05.552019 13296 deprecation_wrapper.py:119] From c:\\users\\hp\\python\\python37\\lib\\site-packages\\keras\\backend\\tensorflow_backend.py:133: The name tf.placeholder_with_default is deprecated. Please use tf.compat.v1.placeholder_with_default instead.\n",
      "\n",
      "W0714 13:00:05.585949 13296 deprecation.py:506] From c:\\users\\hp\\python\\python37\\lib\\site-packages\\keras\\backend\\tensorflow_backend.py:3445: calling dropout (from tensorflow.python.ops.nn_ops) with keep_prob is deprecated and will be removed in a future version.\n",
      "Instructions for updating:\n",
      "Please use `rate` instead of `keep_prob`. Rate should be set to `rate = 1 - keep_prob`.\n",
      "W0714 13:00:05.767547 13296 deprecation_wrapper.py:119] From c:\\users\\hp\\python\\python37\\lib\\site-packages\\keras\\optimizers.py:790: The name tf.train.Optimizer is deprecated. Please use tf.compat.v1.train.Optimizer instead.\n",
      "\n",
      "W0714 13:00:05.851547 13296 deprecation_wrapper.py:119] From c:\\users\\hp\\python\\python37\\lib\\site-packages\\keras\\backend\\tensorflow_backend.py:3295: The name tf.log is deprecated. Please use tf.math.log instead.\n",
      "\n"
     ]
    }
   ],
   "source": [
    "model=Sequential()\n",
    "\n",
    "model.add(Conv2D(200,(3,3),input_shape=data.shape[1:]))\n",
    "model.add(Activation('relu'))\n",
    "model.add(MaxPooling2D(pool_size=(2,2)))\n",
    "\n",
    "model.add(Conv2D(100,(3,3)))\n",
    "model.add(Activation('relu'))\n",
    "model.add(MaxPooling2D(pool_size=(2,2)))\n",
    "\n",
    "model.add(Flatten())\n",
    "model.add(Dropout(0.5))\n",
    "model.add(Dense(50,activation='relu'))\n",
    "model.add(Dense(2,activation='softmax'))\n",
    "\n",
    "model.compile(loss='categorical_crossentropy',optimizer='adam',metrics=['accuracy'])"
   ]
  },
  {
   "cell_type": "code",
   "execution_count": 14,
   "metadata": {},
   "outputs": [],
   "source": [
    "from sklearn.model_selection import train_test_split"
   ]
  },
  {
   "cell_type": "code",
   "execution_count": 17,
   "metadata": {},
   "outputs": [],
   "source": [
    "train_data,test_data,train_target,test_target=train_test_split(data,target,test_size=0.1)"
   ]
  },
  {
   "cell_type": "code",
   "execution_count": 19,
   "metadata": {},
   "outputs": [
    {
     "name": "stderr",
     "output_type": "stream",
     "text": [
      "W0714 13:03:17.629103 13296 deprecation.py:323] From c:\\users\\hp\\python\\python37\\lib\\site-packages\\tensorflow\\python\\ops\\math_grad.py:1250: add_dispatch_support.<locals>.wrapper (from tensorflow.python.ops.array_ops) is deprecated and will be removed in a future version.\n",
      "Instructions for updating:\n",
      "Use tf.where in 2.0, which has the same broadcast rule as np.where\n"
     ]
    },
    {
     "name": "stdout",
     "output_type": "stream",
     "text": [
      "Train on 990 samples, validate on 248 samples\n",
      "Epoch 1/20\n",
      "990/990 [==============================] - 85s 86ms/step - loss: 0.7362 - acc: 0.5071 - val_loss: 0.6704 - val_acc: 0.5161\n",
      "Epoch 2/20\n",
      "990/990 [==============================] - 52s 53ms/step - loss: 0.5892 - acc: 0.6535 - val_loss: 0.5677 - val_acc: 0.7339\n",
      "Epoch 3/20\n",
      "990/990 [==============================] - 52s 53ms/step - loss: 0.4206 - acc: 0.8091 - val_loss: 0.3945 - val_acc: 0.8468\n",
      "Epoch 4/20\n",
      "990/990 [==============================] - 52s 53ms/step - loss: 0.3304 - acc: 0.8626 - val_loss: 0.3621 - val_acc: 0.8790\n",
      "Epoch 5/20\n",
      "990/990 [==============================] - 53s 53ms/step - loss: 0.2675 - acc: 0.8960 - val_loss: 0.3156 - val_acc: 0.8992\n",
      "Epoch 6/20\n",
      "990/990 [==============================] - 54s 54ms/step - loss: 0.2029 - acc: 0.9253 - val_loss: 0.2949 - val_acc: 0.9073\n",
      "Epoch 7/20\n",
      "990/990 [==============================] - 53s 54ms/step - loss: 0.1609 - acc: 0.9455 - val_loss: 0.3036 - val_acc: 0.8992\n",
      "Epoch 8/20\n",
      "990/990 [==============================] - 52s 53ms/step - loss: 0.1326 - acc: 0.9576 - val_loss: 0.2588 - val_acc: 0.9355\n",
      "Epoch 9/20\n",
      "990/990 [==============================] - 52s 52ms/step - loss: 0.1178 - acc: 0.9616 - val_loss: 0.2680 - val_acc: 0.9274\n",
      "Epoch 10/20\n",
      "990/990 [==============================] - 52s 53ms/step - loss: 0.0956 - acc: 0.9717 - val_loss: 0.2903 - val_acc: 0.9315\n",
      "Epoch 11/20\n",
      "990/990 [==============================] - 54s 55ms/step - loss: 0.0857 - acc: 0.9747 - val_loss: 0.2210 - val_acc: 0.9355\n",
      "Epoch 12/20\n",
      "990/990 [==============================] - 52s 53ms/step - loss: 0.0788 - acc: 0.9727 - val_loss: 0.2575 - val_acc: 0.9234\n",
      "Epoch 13/20\n",
      "990/990 [==============================] - 52s 53ms/step - loss: 0.0659 - acc: 0.9818 - val_loss: 0.2323 - val_acc: 0.9315\n",
      "Epoch 14/20\n",
      "990/990 [==============================] - 53s 53ms/step - loss: 0.0643 - acc: 0.9758 - val_loss: 0.3055 - val_acc: 0.9113\n",
      "Epoch 15/20\n",
      "990/990 [==============================] - 52s 52ms/step - loss: 0.0555 - acc: 0.9768 - val_loss: 0.2440 - val_acc: 0.9234\n",
      "Epoch 16/20\n",
      "990/990 [==============================] - 51s 52ms/step - loss: 0.0408 - acc: 0.9848 - val_loss: 0.2941 - val_acc: 0.9274\n",
      "Epoch 17/20\n",
      "990/990 [==============================] - 54s 55ms/step - loss: 0.0437 - acc: 0.9818 - val_loss: 0.2939 - val_acc: 0.9113\n",
      "Epoch 18/20\n",
      "990/990 [==============================] - 53s 54ms/step - loss: 0.0437 - acc: 0.9859 - val_loss: 0.2715 - val_acc: 0.9315\n",
      "Epoch 19/20\n",
      "990/990 [==============================] - 52s 53ms/step - loss: 0.0268 - acc: 0.9939 - val_loss: 0.3327 - val_acc: 0.9153\n",
      "Epoch 20/20\n",
      "990/990 [==============================] - 53s 54ms/step - loss: 0.0465 - acc: 0.9818 - val_loss: 0.3463 - val_acc: 0.9113\n"
     ]
    }
   ],
   "source": [
    "checkpoint = ModelCheckpoint('model-{epoch:03d}.model',monitor='val_loss',verbose=0,save_best_only=True,mode='auto')\n",
    "history=model.fit(train_data,train_target,epochs=20,callbacks=[checkpoint],validation_split=0.2)"
   ]
  },
  {
   "cell_type": "code",
   "execution_count": 20,
   "metadata": {},
   "outputs": [
    {
     "name": "stdout",
     "output_type": "stream",
     "text": [
      "138/138 [==============================] - 2s 14ms/step\n",
      "[0.24841367658497632, 0.9130434765331987]\n"
     ]
    }
   ],
   "source": [
    "print(model.evaluate(test_data,test_target))"
   ]
  },
  {
   "cell_type": "code",
   "execution_count": null,
   "metadata": {},
   "outputs": [],
   "source": []
  }
 ],
 "metadata": {
  "kernelspec": {
   "display_name": "Python 3",
   "language": "python",
   "name": "python3"
  },
  "language_info": {
   "codemirror_mode": {
    "name": "ipython",
    "version": 3
   },
   "file_extension": ".py",
   "mimetype": "text/x-python",
   "name": "python",
   "nbconvert_exporter": "python",
   "pygments_lexer": "ipython3",
   "version": "3.7.3"
  }
 },
 "nbformat": 4,
 "nbformat_minor": 2
}
